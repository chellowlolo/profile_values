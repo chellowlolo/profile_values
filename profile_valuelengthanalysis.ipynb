{
 "cells": [
  {
   "cell_type": "code",
   "execution_count": 8,
   "metadata": {
    "collapsed": true
   },
   "outputs": [],
   "source": [
    "\"\"\"profile_valuelengthanalysis.py\"\"\"\n",
    "\n",
    "\"\"\"This script contains the methods to plots histogram on the value lengths.\"\"\"\n",
    "\n",
    "import numpy as np\n",
    "import pandas as pd\n",
    "import matplotlib.pyplot as plt\n",
    "\n",
    "def histogramValueLengths(df):\n",
    "    \"\"\"\n",
    "    Returns histogram on length of values in dataframe.\n",
    "    Args:\n",
    "        dataframe (pandas dataframe): Input pandas dataframe\n",
    "    Returns:\n",
    "        histogram ()\n",
    "    \"\"\"\n",
    "    col_title = df.columns.get_values()[0]\n",
    "    df['Length'] = df[col_title].str.len()\n",
    "    plt.hist(df['Length'], bins=100)\n",
    "    histogram = plt.show()\n",
    "    return histogram\n",
    "    "
   ]
  },
  {
   "cell_type": "code",
   "execution_count": null,
   "metadata": {
    "collapsed": true
   },
   "outputs": [],
   "source": []
  }
 ],
 "metadata": {
  "kernelspec": {
   "display_name": "Python 3",
   "language": "python",
   "name": "python3"
  },
  "language_info": {
   "codemirror_mode": {
    "name": "ipython",
    "version": 3
   },
   "file_extension": ".py",
   "mimetype": "text/x-python",
   "name": "python",
   "nbconvert_exporter": "python",
   "pygments_lexer": "ipython3",
   "version": "3.6.0"
  }
 },
 "nbformat": 4,
 "nbformat_minor": 2
}
