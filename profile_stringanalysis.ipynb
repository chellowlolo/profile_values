{
 "cells": [
  {
   "cell_type": "code",
   "execution_count": 24,
   "metadata": {
    "collapsed": false
   },
   "outputs": [],
   "source": [
    "\"\"\"Analyse dataframe of strings\"\"\"\n",
    "\n",
    "\"\"\"profile_stringanalysis.py\"\"\"\n",
    "\n",
    "\"\"\"This script contains the methods to perform clustering on set of strings.\"\"\"\n",
    "\n",
    "\n",
    "import pandas as pd\n",
    "import py_valuenormalization as vn\n",
    "\n",
    "def analyse_strings(dataframe):\n",
    "    \"\"\"\n",
    "        Removes duplicates in a dataframe of strings and forms clusters of the strings.\n",
    "        Args:\n",
    "            dataframe (pandas dataframe): Input pandas dataframe\n",
    "        Returns:\n",
    "            clusters (dict)\n",
    "        Examples:\n",
    "            >>> clusts = analyse_strings(dataframe)\n",
    "            >>> len(clusts)\n",
    "            50\n",
    "    \"\"\"\n",
    "    df_noDuplicaes = remove_duplicates(dataframe)\n",
    "    return cluster_strings(df_noDuplicaes)\n",
    "    \n",
    "def remove_duplicates(dataframe):\n",
    "    \"\"\"\n",
    "        Removes duplicates in a dataframe of strings.\n",
    "        Args:\n",
    "            dataframe (pandas dataframe): Input pandas dataframe\n",
    "        Returns:\n",
    "            dataframe(pandas dataframe)\n",
    "        Examples:\n",
    "            >>> new_df = remove_duplicates(dataframe)\n",
    "            >>> len(new_df)\n",
    "            100\n",
    "    \"\"\"     \n",
    "    new_df = dataframe.drop_duplicates()\n",
    "    return new_df\n",
    "\n",
    "def cluster_strings(dataframe):\n",
    "    \"\"\"\n",
    "        Forms clusters of the strings.\n",
    "        Args:\n",
    "            dataframe (pandas dataframe): Input pandas dataframe\n",
    "        Returns:\n",
    "            clusters (dict)\n",
    "        \"\"\"\n",
    "    hac = vn.HierarchicalClustering(vals)\n",
    "    clusts = hac.cluster(sim_measure = '3gram Jaccard', linkage = 'single', thr = 0.7)\n",
    "    return clusts"
   ]
  },
  {
   "cell_type": "code",
   "execution_count": null,
   "metadata": {
    "collapsed": true
   },
   "outputs": [],
   "source": []
  }
 ],
 "metadata": {
  "kernelspec": {
   "display_name": "Python 3",
   "language": "python",
   "name": "python3"
  },
  "language_info": {
   "codemirror_mode": {
    "name": "ipython",
    "version": 3
   },
   "file_extension": ".py",
   "mimetype": "text/x-python",
   "name": "python",
   "nbconvert_exporter": "python",
   "pygments_lexer": "ipython3",
   "version": "3.6.0"
  }
 },
 "nbformat": 4,
 "nbformat_minor": 2
}
