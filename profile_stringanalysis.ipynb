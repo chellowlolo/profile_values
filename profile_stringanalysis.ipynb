{
 "cells": [
  {
   "cell_type": "code",
   "execution_count": 4,
   "metadata": {
    "collapsed": true
   },
   "outputs": [],
   "source": [
    "_author__ = 'Meera George'\n",
    "\n",
    "#profile_stringanalysis.py\n",
    "\n",
    "#This script contains the methods to perform clustering on set of strings.\n",
    "\n",
    "import pandas as pd\n",
    "import py_valuenormalization as vn\n",
    "\n",
    "def analyse_strings(dataframe):\n",
    "    df_noDuplicaes = remove_duplicates(dataframe)\n",
    "    return cluster_strings(df_noDuplicaes)\n",
    "    \n",
    "def remove_duplicates(dataframe):\n",
    "    new_df = dataframe.drop_duplicates()\n",
    "    return new_df\n",
    "\n",
    "def cluster_strings(dataframe):\n",
    "    hac = vn.HierarchicalClustering(vals)\n",
    "    clusts = hac.cluster(sim_measure = '3gram Jaccard', linkage = 'single', thr = 0.7)\n",
    "    return clusts"
   ]
  },
  {
   "cell_type": "code",
   "execution_count": null,
   "metadata": {
    "collapsed": true
   },
   "outputs": [],
   "source": []
  }
 ],
 "metadata": {
  "kernelspec": {
   "display_name": "Python 3",
   "language": "python",
   "name": "python3"
  },
  "language_info": {
   "codemirror_mode": {
    "name": "ipython",
    "version": 3
   },
   "file_extension": ".py",
   "mimetype": "text/x-python",
   "name": "python",
   "nbconvert_exporter": "python",
   "pygments_lexer": "ipython3",
   "version": "3.6.0"
  }
 },
 "nbformat": 4,
 "nbformat_minor": 2
}
