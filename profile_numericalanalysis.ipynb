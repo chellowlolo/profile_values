{
 "cells": [
  {
   "cell_type": "code",
   "execution_count": 18,
   "metadata": {
    "collapsed": true
   },
   "outputs": [],
   "source": [
    "__author__ = 'Meera George'\n",
    "\n",
    "#profile_numericalanalysis.py\n",
    "\n",
    "#This script contains the methods to perform the analysis on the numerical values of the data frame.\n",
    "import numpy as np\n",
    "import pandas as pd\n",
    "import pandas_profiling as pp\n",
    "import operator\n",
    "from IPython.display import display,HTML\n",
    "\n",
    "def numerical_analysis(df_column):\n",
    "    dict={}\n",
    "    df_column,isNumeric,isHybrid = find_type(df_column)\n",
    "    dict['isNumeric'] = isNumeric\n",
    "    dict['isHybrid'] = isHybrid\n",
    "    if isNumeric:\n",
    "        dict['analysisReport'] = pp.ProfileReport(df_column)\n",
    "    return dict\n",
    "\n",
    "def find_type(df_column):\n",
    "    #Initialize all needed values\n",
    "    col_title = df_column.columns.get_values()[0]\n",
    "    isNumeric = False\n",
    "    isHybrid = False\n",
    "    #Find if the dtype is numerical or not\n",
    "    if df_column[col_title].dtype == np.number: \n",
    "        isNumeric = True\n",
    "        list_numericValues = df_column[col_title].values\n",
    "    elif checkIfNumericTypeCast(df_column)[1]:\n",
    "        isNumeric = True\n",
    "        df_column = checkIfNumericTypeCast(df_column)[0]\n",
    "    if not isNumeric:\n",
    "        isHybrid = checkIfHybridType(df_column)\n",
    "    return (df_column,isNumeric,isHybrid)\n",
    "        \n",
    "def checkIfNumericTypeCast(df_column):\n",
    "    col_title = df_column.columns.get_values()[0]\n",
    "    isNumeric = True\n",
    "    try:\n",
    "        df_column[col_title]  = pd.to_numeric(df_column[col_title],errors='raise')\n",
    "    except:\n",
    "        isNumeric = False\n",
    "    return (df_column,isNumeric)\n",
    "\n",
    "def checkIfHybridType(df_column):\n",
    "    col_title = df_column.columns.get_values()[0]\n",
    "    col_series = []\n",
    "    col_series  = pd.to_numeric(df_column[col_title],errors='coerce')\n",
    "    if len(col_series.dropna()):\n",
    "        return True\n",
    "    else:\n",
    "        return False"
   ]
  }
 ],
 "metadata": {
  "kernelspec": {
   "display_name": "Python 3",
   "language": "python",
   "name": "python3"
  },
  "language_info": {
   "codemirror_mode": {
    "name": "ipython",
    "version": 3
   },
   "file_extension": ".py",
   "mimetype": "text/x-python",
   "name": "python",
   "nbconvert_exporter": "python",
   "pygments_lexer": "ipython3",
   "version": "3.6.0"
  }
 },
 "nbformat": 4,
 "nbformat_minor": 2
}
